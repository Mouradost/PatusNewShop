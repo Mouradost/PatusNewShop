{
 "cells": [
  {
   "cell_type": "code",
   "execution_count": 15,
   "metadata": {},
   "outputs": [],
   "source": [
    "import pandas as pd\n",
    "import numpy as np\n",
    "import seaborn as sns\n",
    "from DB.DBHandler import DBHelper"
   ]
  },
  {
   "cell_type": "code",
   "execution_count": 2,
   "metadata": {},
   "outputs": [],
   "source": [
    "db = DBHelper()"
   ]
  },
  {
   "cell_type": "code",
   "execution_count": 3,
   "metadata": {},
   "outputs": [],
   "source": [
    "df = pd.read_sql_query(\n",
    "    \"\"\"\n",
    "    SELECT Pointer.date_start, Pointer.date_end, Workers.name, Workers.id_category, Workers.score  FROM Pointer \n",
    "    LEFT JOIN Workers ON \n",
    "    Pointer.id_worker = Workers._id\"\"\", db.conn)\n"
   ]
  },
  {
   "cell_type": "code",
   "execution_count": 4,
   "metadata": {},
   "outputs": [],
   "source": [
    "df.date_start = pd.to_datetime(df.date_start)\n",
    "df.date_end = pd.to_datetime(df.date_end)\n"
   ]
  },
  {
   "cell_type": "code",
   "execution_count": 5,
   "metadata": {},
   "outputs": [
    {
     "data": {
      "text/plain": [
       "date_start     datetime64[ns]\n",
       "date_end       datetime64[ns]\n",
       "name                   object\n",
       "id_category           float64\n",
       "score                 float64\n",
       "dtype: object"
      ]
     },
     "execution_count": 5,
     "metadata": {},
     "output_type": "execute_result"
    }
   ],
   "source": [
    "df.dtypes"
   ]
  },
  {
   "cell_type": "code",
   "execution_count": 6,
   "metadata": {},
   "outputs": [
    {
     "data": {
      "text/html": [
       "<div>\n",
       "<style scoped>\n",
       "    .dataframe tbody tr th:only-of-type {\n",
       "        vertical-align: middle;\n",
       "    }\n",
       "\n",
       "    .dataframe tbody tr th {\n",
       "        vertical-align: top;\n",
       "    }\n",
       "\n",
       "    .dataframe thead th {\n",
       "        text-align: right;\n",
       "    }\n",
       "</style>\n",
       "<table border=\"1\" class=\"dataframe\">\n",
       "  <thead>\n",
       "    <tr style=\"text-align: right;\">\n",
       "      <th></th>\n",
       "      <th>date_start</th>\n",
       "      <th>date_end</th>\n",
       "      <th>name</th>\n",
       "      <th>id_category</th>\n",
       "      <th>score</th>\n",
       "    </tr>\n",
       "  </thead>\n",
       "  <tbody>\n",
       "    <tr>\n",
       "      <th>319</th>\n",
       "      <td>2022-04-15 19:12:33</td>\n",
       "      <td>2022-04-15 19:15:29</td>\n",
       "      <td>Administrator</td>\n",
       "      <td>1.0</td>\n",
       "      <td>3.510364e+09</td>\n",
       "    </tr>\n",
       "    <tr>\n",
       "      <th>320</th>\n",
       "      <td>2022-04-15 19:15:41</td>\n",
       "      <td>2022-04-15 19:19:47</td>\n",
       "      <td>Administrator</td>\n",
       "      <td>1.0</td>\n",
       "      <td>3.510364e+09</td>\n",
       "    </tr>\n",
       "    <tr>\n",
       "      <th>321</th>\n",
       "      <td>2022-04-15 19:19:59</td>\n",
       "      <td>2022-04-15 19:20:31</td>\n",
       "      <td>Administrator</td>\n",
       "      <td>1.0</td>\n",
       "      <td>3.510364e+09</td>\n",
       "    </tr>\n",
       "    <tr>\n",
       "      <th>322</th>\n",
       "      <td>2022-04-15 19:22:51</td>\n",
       "      <td>2022-04-15 19:23:03</td>\n",
       "      <td>Administrator</td>\n",
       "      <td>1.0</td>\n",
       "      <td>3.510364e+09</td>\n",
       "    </tr>\n",
       "    <tr>\n",
       "      <th>323</th>\n",
       "      <td>2022-04-15 19:24:56</td>\n",
       "      <td>2022-04-15 19:27:05</td>\n",
       "      <td>Administrator</td>\n",
       "      <td>1.0</td>\n",
       "      <td>3.510364e+09</td>\n",
       "    </tr>\n",
       "    <tr>\n",
       "      <th>...</th>\n",
       "      <td>...</td>\n",
       "      <td>...</td>\n",
       "      <td>...</td>\n",
       "      <td>...</td>\n",
       "      <td>...</td>\n",
       "    </tr>\n",
       "    <tr>\n",
       "      <th>422</th>\n",
       "      <td>2022-04-17 03:40:38</td>\n",
       "      <td>2022-04-17 03:41:01</td>\n",
       "      <td>Administrator</td>\n",
       "      <td>1.0</td>\n",
       "      <td>3.510364e+09</td>\n",
       "    </tr>\n",
       "    <tr>\n",
       "      <th>423</th>\n",
       "      <td>2022-04-17 03:41:08</td>\n",
       "      <td>2022-04-17 03:41:27</td>\n",
       "      <td>Lablack Mourad</td>\n",
       "      <td>1.0</td>\n",
       "      <td>3.000000e+02</td>\n",
       "    </tr>\n",
       "    <tr>\n",
       "      <th>424</th>\n",
       "      <td>2022-04-17 03:41:08</td>\n",
       "      <td>2022-04-17 03:41:31</td>\n",
       "      <td>Lablack Mourad</td>\n",
       "      <td>1.0</td>\n",
       "      <td>3.000000e+02</td>\n",
       "    </tr>\n",
       "    <tr>\n",
       "      <th>425</th>\n",
       "      <td>2022-04-18 22:54:17</td>\n",
       "      <td>2022-04-18 22:59:49</td>\n",
       "      <td>Administrator</td>\n",
       "      <td>1.0</td>\n",
       "      <td>3.510364e+09</td>\n",
       "    </tr>\n",
       "    <tr>\n",
       "      <th>426</th>\n",
       "      <td>2022-04-18 23:00:11</td>\n",
       "      <td>2022-04-18 23:01:54</td>\n",
       "      <td>Administrator</td>\n",
       "      <td>1.0</td>\n",
       "      <td>3.510364e+09</td>\n",
       "    </tr>\n",
       "  </tbody>\n",
       "</table>\n",
       "<p>108 rows × 5 columns</p>\n",
       "</div>"
      ],
      "text/plain": [
       "             date_start            date_end            name  id_category  \\\n",
       "319 2022-04-15 19:12:33 2022-04-15 19:15:29   Administrator          1.0   \n",
       "320 2022-04-15 19:15:41 2022-04-15 19:19:47   Administrator          1.0   \n",
       "321 2022-04-15 19:19:59 2022-04-15 19:20:31   Administrator          1.0   \n",
       "322 2022-04-15 19:22:51 2022-04-15 19:23:03   Administrator          1.0   \n",
       "323 2022-04-15 19:24:56 2022-04-15 19:27:05   Administrator          1.0   \n",
       "..                  ...                 ...             ...          ...   \n",
       "422 2022-04-17 03:40:38 2022-04-17 03:41:01   Administrator          1.0   \n",
       "423 2022-04-17 03:41:08 2022-04-17 03:41:27  Lablack Mourad          1.0   \n",
       "424 2022-04-17 03:41:08 2022-04-17 03:41:31  Lablack Mourad          1.0   \n",
       "425 2022-04-18 22:54:17 2022-04-18 22:59:49   Administrator          1.0   \n",
       "426 2022-04-18 23:00:11 2022-04-18 23:01:54   Administrator          1.0   \n",
       "\n",
       "            score  \n",
       "319  3.510364e+09  \n",
       "320  3.510364e+09  \n",
       "321  3.510364e+09  \n",
       "322  3.510364e+09  \n",
       "323  3.510364e+09  \n",
       "..            ...  \n",
       "422  3.510364e+09  \n",
       "423  3.000000e+02  \n",
       "424  3.000000e+02  \n",
       "425  3.510364e+09  \n",
       "426  3.510364e+09  \n",
       "\n",
       "[108 rows x 5 columns]"
      ]
     },
     "execution_count": 6,
     "metadata": {},
     "output_type": "execute_result"
    }
   ],
   "source": [
    "df.loc[\n",
    "    df.date_start >= pd.to_datetime(\"2022-04-15\"),\n",
    "    :]\n"
   ]
  },
  {
   "cell_type": "code",
   "execution_count": 7,
   "metadata": {},
   "outputs": [
    {
     "data": {
      "text/html": [
       "<div>\n",
       "<style scoped>\n",
       "    .dataframe tbody tr th:only-of-type {\n",
       "        vertical-align: middle;\n",
       "    }\n",
       "\n",
       "    .dataframe tbody tr th {\n",
       "        vertical-align: top;\n",
       "    }\n",
       "\n",
       "    .dataframe thead th {\n",
       "        text-align: right;\n",
       "    }\n",
       "</style>\n",
       "<table border=\"1\" class=\"dataframe\">\n",
       "  <thead>\n",
       "    <tr style=\"text-align: right;\">\n",
       "      <th></th>\n",
       "      <th>date_start</th>\n",
       "      <th>date_end</th>\n",
       "      <th>name</th>\n",
       "      <th>id_category</th>\n",
       "      <th>score</th>\n",
       "    </tr>\n",
       "  </thead>\n",
       "  <tbody>\n",
       "    <tr>\n",
       "      <th>0</th>\n",
       "      <td>2022-02-24 21:40:18</td>\n",
       "      <td>2022-02-24 21:41:02</td>\n",
       "      <td>Administrator</td>\n",
       "      <td>1.0</td>\n",
       "      <td>3.510364e+09</td>\n",
       "    </tr>\n",
       "    <tr>\n",
       "      <th>1</th>\n",
       "      <td>2022-02-24 21:41:29</td>\n",
       "      <td>2022-02-24 21:42:27</td>\n",
       "      <td>Administrator</td>\n",
       "      <td>1.0</td>\n",
       "      <td>3.510364e+09</td>\n",
       "    </tr>\n",
       "    <tr>\n",
       "      <th>2</th>\n",
       "      <td>2022-02-24 21:42:44</td>\n",
       "      <td>2022-02-24 21:42:52</td>\n",
       "      <td>Administrator</td>\n",
       "      <td>1.0</td>\n",
       "      <td>3.510364e+09</td>\n",
       "    </tr>\n",
       "    <tr>\n",
       "      <th>3</th>\n",
       "      <td>2022-02-24 21:43:26</td>\n",
       "      <td>2022-02-24 21:43:49</td>\n",
       "      <td>Administrator</td>\n",
       "      <td>1.0</td>\n",
       "      <td>3.510364e+09</td>\n",
       "    </tr>\n",
       "    <tr>\n",
       "      <th>4</th>\n",
       "      <td>2022-02-24 21:44:06</td>\n",
       "      <td>2022-02-24 21:45:02</td>\n",
       "      <td>Administrator</td>\n",
       "      <td>1.0</td>\n",
       "      <td>3.510364e+09</td>\n",
       "    </tr>\n",
       "    <tr>\n",
       "      <th>...</th>\n",
       "      <td>...</td>\n",
       "      <td>...</td>\n",
       "      <td>...</td>\n",
       "      <td>...</td>\n",
       "      <td>...</td>\n",
       "    </tr>\n",
       "    <tr>\n",
       "      <th>422</th>\n",
       "      <td>2022-04-17 03:40:38</td>\n",
       "      <td>2022-04-17 03:41:01</td>\n",
       "      <td>Administrator</td>\n",
       "      <td>1.0</td>\n",
       "      <td>3.510364e+09</td>\n",
       "    </tr>\n",
       "    <tr>\n",
       "      <th>423</th>\n",
       "      <td>2022-04-17 03:41:08</td>\n",
       "      <td>2022-04-17 03:41:27</td>\n",
       "      <td>Lablack Mourad</td>\n",
       "      <td>1.0</td>\n",
       "      <td>3.000000e+02</td>\n",
       "    </tr>\n",
       "    <tr>\n",
       "      <th>424</th>\n",
       "      <td>2022-04-17 03:41:08</td>\n",
       "      <td>2022-04-17 03:41:31</td>\n",
       "      <td>Lablack Mourad</td>\n",
       "      <td>1.0</td>\n",
       "      <td>3.000000e+02</td>\n",
       "    </tr>\n",
       "    <tr>\n",
       "      <th>425</th>\n",
       "      <td>2022-04-18 22:54:17</td>\n",
       "      <td>2022-04-18 22:59:49</td>\n",
       "      <td>Administrator</td>\n",
       "      <td>1.0</td>\n",
       "      <td>3.510364e+09</td>\n",
       "    </tr>\n",
       "    <tr>\n",
       "      <th>426</th>\n",
       "      <td>2022-04-18 23:00:11</td>\n",
       "      <td>2022-04-18 23:01:54</td>\n",
       "      <td>Administrator</td>\n",
       "      <td>1.0</td>\n",
       "      <td>3.510364e+09</td>\n",
       "    </tr>\n",
       "  </tbody>\n",
       "</table>\n",
       "<p>427 rows × 5 columns</p>\n",
       "</div>"
      ],
      "text/plain": [
       "             date_start            date_end            name  id_category  \\\n",
       "0   2022-02-24 21:40:18 2022-02-24 21:41:02   Administrator          1.0   \n",
       "1   2022-02-24 21:41:29 2022-02-24 21:42:27   Administrator          1.0   \n",
       "2   2022-02-24 21:42:44 2022-02-24 21:42:52   Administrator          1.0   \n",
       "3   2022-02-24 21:43:26 2022-02-24 21:43:49   Administrator          1.0   \n",
       "4   2022-02-24 21:44:06 2022-02-24 21:45:02   Administrator          1.0   \n",
       "..                  ...                 ...             ...          ...   \n",
       "422 2022-04-17 03:40:38 2022-04-17 03:41:01   Administrator          1.0   \n",
       "423 2022-04-17 03:41:08 2022-04-17 03:41:27  Lablack Mourad          1.0   \n",
       "424 2022-04-17 03:41:08 2022-04-17 03:41:31  Lablack Mourad          1.0   \n",
       "425 2022-04-18 22:54:17 2022-04-18 22:59:49   Administrator          1.0   \n",
       "426 2022-04-18 23:00:11 2022-04-18 23:01:54   Administrator          1.0   \n",
       "\n",
       "            score  \n",
       "0    3.510364e+09  \n",
       "1    3.510364e+09  \n",
       "2    3.510364e+09  \n",
       "3    3.510364e+09  \n",
       "4    3.510364e+09  \n",
       "..            ...  \n",
       "422  3.510364e+09  \n",
       "423  3.000000e+02  \n",
       "424  3.000000e+02  \n",
       "425  3.510364e+09  \n",
       "426  3.510364e+09  \n",
       "\n",
       "[427 rows x 5 columns]"
      ]
     },
     "execution_count": 7,
     "metadata": {},
     "output_type": "execute_result"
    }
   ],
   "source": [
    "df"
   ]
  },
  {
   "cell_type": "code",
   "execution_count": 8,
   "metadata": {},
   "outputs": [
    {
     "data": {
      "text/html": [
       "<div>\n",
       "<style scoped>\n",
       "    .dataframe tbody tr th:only-of-type {\n",
       "        vertical-align: middle;\n",
       "    }\n",
       "\n",
       "    .dataframe tbody tr th {\n",
       "        vertical-align: top;\n",
       "    }\n",
       "\n",
       "    .dataframe thead th {\n",
       "        text-align: right;\n",
       "    }\n",
       "</style>\n",
       "<table border=\"1\" class=\"dataframe\">\n",
       "  <thead>\n",
       "    <tr style=\"text-align: right;\">\n",
       "      <th></th>\n",
       "      <th>id_category</th>\n",
       "      <th>score</th>\n",
       "    </tr>\n",
       "    <tr>\n",
       "      <th>date_start</th>\n",
       "      <th></th>\n",
       "      <th></th>\n",
       "    </tr>\n",
       "  </thead>\n",
       "  <tbody>\n",
       "    <tr>\n",
       "      <th>Friday</th>\n",
       "      <td>1.000000</td>\n",
       "      <td>3.510364e+09</td>\n",
       "    </tr>\n",
       "    <tr>\n",
       "      <th>Monday</th>\n",
       "      <td>1.000000</td>\n",
       "      <td>3.510364e+09</td>\n",
       "    </tr>\n",
       "    <tr>\n",
       "      <th>Saturday</th>\n",
       "      <td>1.011905</td>\n",
       "      <td>3.468574e+09</td>\n",
       "    </tr>\n",
       "    <tr>\n",
       "      <th>Sunday</th>\n",
       "      <td>1.272727</td>\n",
       "      <td>1.914748e+09</td>\n",
       "    </tr>\n",
       "    <tr>\n",
       "      <th>Thursday</th>\n",
       "      <td>1.000000</td>\n",
       "      <td>3.510364e+09</td>\n",
       "    </tr>\n",
       "    <tr>\n",
       "      <th>Tuesday</th>\n",
       "      <td>1.031250</td>\n",
       "      <td>3.400666e+09</td>\n",
       "    </tr>\n",
       "    <tr>\n",
       "      <th>Wednesday</th>\n",
       "      <td>1.022222</td>\n",
       "      <td>2.769288e+09</td>\n",
       "    </tr>\n",
       "  </tbody>\n",
       "</table>\n",
       "</div>"
      ],
      "text/plain": [
       "            id_category         score\n",
       "date_start                           \n",
       "Friday         1.000000  3.510364e+09\n",
       "Monday         1.000000  3.510364e+09\n",
       "Saturday       1.011905  3.468574e+09\n",
       "Sunday         1.272727  1.914748e+09\n",
       "Thursday       1.000000  3.510364e+09\n",
       "Tuesday        1.031250  3.400666e+09\n",
       "Wednesday      1.022222  2.769288e+09"
      ]
     },
     "execution_count": 8,
     "metadata": {},
     "output_type": "execute_result"
    }
   ],
   "source": [
    "\n",
    "test = df.set_index(\"date_start\")\n",
    "test.index.day_name()\n",
    "test.groupby(test.index.day_name()).mean()\n"
   ]
  },
  {
   "cell_type": "code",
   "execution_count": 9,
   "metadata": {},
   "outputs": [
    {
     "data": {
      "text/plain": [
       "<AxesSubplot:>"
      ]
     },
     "execution_count": 9,
     "metadata": {},
     "output_type": "execute_result"
    },
    {
     "data": {
      "image/png": "[encoded data removed]",
      "text/plain": [
       "<Figure size 432x288 with 1 Axes>"
      ]
     },
     "metadata": {
      "needs_background": "light"
     },
     "output_type": "display_data"
    }
   ],
   "source": [
    "df.date_start.dt.weekday.value_counts().sort_index().plot(kind=\"bar\")\n"
   ]
  },
  {
   "cell_type": "code",
   "execution_count": 10,
   "metadata": {},
   "outputs": [
    {
     "data": {
      "text/plain": [
       "<AxesSubplot:ylabel='date_start'>"
      ]
     },
     "execution_count": 10,
     "metadata": {},
     "output_type": "execute_result"
    },
    {
     "data": {
      "image/png": "[encoded data removed]",
      "text/plain": [
       "<Figure size 432x288 with 1 Axes>"
      ]
     },
     "metadata": {
      "needs_background": "light"
     },
     "output_type": "display_data"
    }
   ],
   "source": [
    "sns.barplot(data=df, x=df.date_start.dt.weekday.value_counts().sort_index().index,\n",
    "            y=df.date_start.dt.weekday.value_counts().sort_index())\n"
   ]
  },
  {
   "cell_type": "code",
   "execution_count": 11,
   "metadata": {},
   "outputs": [
    {
     "ename": "TypeError",
     "evalue": "'method' object is not iterable",
     "output_type": "error",
     "traceback": [
      "\u001b[1;31m---------------------------------------------------------------------------\u001b[0m",
      "\u001b[1;31mTypeError\u001b[0m                                 Traceback (most recent call last)",
      "\u001b[1;32mC:\\Users\\MOURAD~1\\AppData\\Local\\Temp/ipykernel_17904/3018209417.py\u001b[0m in \u001b[0;36m<module>\u001b[1;34m\u001b[0m\n\u001b[1;32m----> 1\u001b[1;33m \u001b[1;32mfor\u001b[0m \u001b[0md\u001b[0m \u001b[1;32min\u001b[0m \u001b[0mdf\u001b[0m\u001b[1;33m.\u001b[0m\u001b[0mdate_start\u001b[0m\u001b[1;33m.\u001b[0m\u001b[0mdt\u001b[0m\u001b[1;33m.\u001b[0m\u001b[0mday_name\u001b[0m\u001b[1;33m:\u001b[0m\u001b[1;33m\u001b[0m\u001b[1;33m\u001b[0m\u001b[0m\n\u001b[0m\u001b[0;32m      2\u001b[0m     \u001b[0mprint\u001b[0m\u001b[1;33m(\u001b[0m\u001b[0md\u001b[0m\u001b[1;33m)\u001b[0m\u001b[1;33m\u001b[0m\u001b[1;33m\u001b[0m\u001b[0m\n",
      "\u001b[1;31mTypeError\u001b[0m: 'method' object is not iterable"
     ]
    }
   ],
   "source": [
    "for d in df.date_start.dt.day_name:\n",
    "    print(d)"
   ]
  },
  {
   "cell_type": "code",
   "execution_count": 12,
   "metadata": {},
   "outputs": [],
   "source": [
    "\n",
    "df['duration'] = df.date_end - df.date_start\n"
   ]
  },
  {
   "cell_type": "code",
   "execution_count": 19,
   "metadata": {},
   "outputs": [
    {
     "ename": "AttributeError",
     "evalue": "'DataFrame' object has no attribute 'sort'",
     "output_type": "error",
     "traceback": [
      "\u001b[1;31m---------------------------------------------------------------------------\u001b[0m",
      "\u001b[1;31mAttributeError\u001b[0m                            Traceback (most recent call last)",
      "\u001b[1;32mC:\\Users\\MOURAD~1\\AppData\\Local\\Temp/ipykernel_17904/2163181202.py\u001b[0m in \u001b[0;36m<module>\u001b[1;34m\u001b[0m\n\u001b[1;32m----> 1\u001b[1;33m \u001b[0mdf\u001b[0m\u001b[1;33m[\u001b[0m\u001b[1;33m[\u001b[0m\u001b[1;34m\"name\"\u001b[0m\u001b[1;33m,\u001b[0m \u001b[1;34m\"duration\"\u001b[0m\u001b[1;33m]\u001b[0m\u001b[1;33m]\u001b[0m\u001b[1;33m.\u001b[0m\u001b[0mgroupby\u001b[0m\u001b[1;33m(\u001b[0m\u001b[1;33m[\u001b[0m\u001b[1;34m'name'\u001b[0m\u001b[1;33m]\u001b[0m\u001b[1;33m)\u001b[0m\u001b[1;33m.\u001b[0m\u001b[0msum\u001b[0m\u001b[1;33m(\u001b[0m\u001b[1;33m)\u001b[0m\u001b[1;33m.\u001b[0m\u001b[0msort\u001b[0m\u001b[1;33m(\u001b[0m\u001b[1;34m\"duration\"\u001b[0m\u001b[1;33m)\u001b[0m\u001b[1;33m\u001b[0m\u001b[1;33m\u001b[0m\u001b[0m\n\u001b[0m",
      "\u001b[1;32mD:\\mouradost\\.pyenv\\pyenv-win\\versions\\3.8.2\\lib\\site-packages\\pandas\\core\\generic.py\u001b[0m in \u001b[0;36m__getattr__\u001b[1;34m(self, name)\u001b[0m\n\u001b[0;32m   5272\u001b[0m             \u001b[1;32mif\u001b[0m \u001b[0mself\u001b[0m\u001b[1;33m.\u001b[0m\u001b[0m_info_axis\u001b[0m\u001b[1;33m.\u001b[0m\u001b[0m_can_hold_identifiers_and_holds_name\u001b[0m\u001b[1;33m(\u001b[0m\u001b[0mname\u001b[0m\u001b[1;33m)\u001b[0m\u001b[1;33m:\u001b[0m\u001b[1;33m\u001b[0m\u001b[1;33m\u001b[0m\u001b[0m\n\u001b[0;32m   5273\u001b[0m                 \u001b[1;32mreturn\u001b[0m \u001b[0mself\u001b[0m\u001b[1;33m[\u001b[0m\u001b[0mname\u001b[0m\u001b[1;33m]\u001b[0m\u001b[1;33m\u001b[0m\u001b[1;33m\u001b[0m\u001b[0m\n\u001b[1;32m-> 5274\u001b[1;33m             \u001b[1;32mreturn\u001b[0m \u001b[0mobject\u001b[0m\u001b[1;33m.\u001b[0m\u001b[0m__getattribute__\u001b[0m\u001b[1;33m(\u001b[0m\u001b[0mself\u001b[0m\u001b[1;33m,\u001b[0m \u001b[0mname\u001b[0m\u001b[1;33m)\u001b[0m\u001b[1;33m\u001b[0m\u001b[1;33m\u001b[0m\u001b[0m\n\u001b[0m\u001b[0;32m   5275\u001b[0m \u001b[1;33m\u001b[0m\u001b[0m\n\u001b[0;32m   5276\u001b[0m     \u001b[1;32mdef\u001b[0m \u001b[0m__setattr__\u001b[0m\u001b[1;33m(\u001b[0m\u001b[0mself\u001b[0m\u001b[1;33m,\u001b[0m \u001b[0mname\u001b[0m\u001b[1;33m:\u001b[0m \u001b[0mstr\u001b[0m\u001b[1;33m,\u001b[0m \u001b[0mvalue\u001b[0m\u001b[1;33m)\u001b[0m \u001b[1;33m->\u001b[0m \u001b[1;32mNone\u001b[0m\u001b[1;33m:\u001b[0m\u001b[1;33m\u001b[0m\u001b[1;33m\u001b[0m\u001b[0m\n",
      "\u001b[1;31mAttributeError\u001b[0m: 'DataFrame' object has no attribute 'sort'"
     ]
    }
   ],
   "source": [
    "df[[\"name\", \"duration\"]].groupby(['name']).sum().sort(\"duration\")\n"
   ]
  },
  {
   "cell_type": "code",
   "execution_count": 13,
   "metadata": {},
   "outputs": [
    {
     "data": {
      "text/plain": [
       "<AxesSubplot:xlabel='name'>"
      ]
     },
     "execution_count": 13,
     "metadata": {},
     "output_type": "execute_result"
    },
    {
     "data": {
      "image/png": "[encoded data removed]",
      "text/plain": [
       "<Figure size 432x288 with 1 Axes>"
      ]
     },
     "metadata": {
      "needs_background": "light"
     },
     "output_type": "display_data"
    }
   ],
   "source": [
    "df[[\"name\", \"score\"]].groupby(['name']).mean().plot(kind='bar')\n"
   ]
  },
  {
   "cell_type": "code",
   "execution_count": 14,
   "metadata": {},
   "outputs": [
    {
     "ename": "NameError",
     "evalue": "name 'np' is not defined",
     "output_type": "error",
     "traceback": [
      "\u001b[1;31m---------------------------------------------------------------------------\u001b[0m",
      "\u001b[1;31mNameError\u001b[0m                                 Traceback (most recent call last)",
      "\u001b[1;32mC:\\Users\\MOURAD~1\\AppData\\Local\\Temp/ipykernel_17904/3857910507.py\u001b[0m in \u001b[0;36m<module>\u001b[1;34m\u001b[0m\n\u001b[1;32m----> 1\u001b[1;33m \u001b[0mnp\u001b[0m\u001b[1;33m.\u001b[0m\u001b[0mvstack\u001b[0m\u001b[1;33m(\u001b[0m\u001b[1;33m[\u001b[0m\u001b[0mdf\u001b[0m\u001b[1;33m[\u001b[0m\u001b[1;33m[\u001b[0m\u001b[1;34m\"name\"\u001b[0m\u001b[1;33m,\u001b[0m \u001b[1;34m\"duration\"\u001b[0m\u001b[1;33m]\u001b[0m\u001b[1;33m]\u001b[0m\u001b[1;33m.\u001b[0m\u001b[0mgroupby\u001b[0m\u001b[1;33m(\u001b[0m\u001b[1;33m[\u001b[0m\u001b[1;34m'name'\u001b[0m\u001b[1;33m]\u001b[0m\u001b[1;33m)\u001b[0m\u001b[1;33m.\u001b[0m\u001b[0msum\u001b[0m\u001b[1;33m(\u001b[0m\u001b[1;33m)\u001b[0m\u001b[1;33m.\u001b[0m\u001b[0mindex\u001b[0m\u001b[1;33m.\u001b[0m\u001b[0mvalues\u001b[0m\u001b[1;33m,\u001b[0m \u001b[0mnp\u001b[0m\u001b[1;33m.\u001b[0m\u001b[0msqueeze\u001b[0m\u001b[1;33m(\u001b[0m\u001b[0mdf\u001b[0m\u001b[1;33m[\u001b[0m\u001b[1;33m[\u001b[0m\u001b[1;34m\"name\"\u001b[0m\u001b[1;33m,\u001b[0m \u001b[1;34m\"duration\"\u001b[0m\u001b[1;33m]\u001b[0m\u001b[1;33m]\u001b[0m\u001b[1;33m.\u001b[0m\u001b[0mgroupby\u001b[0m\u001b[1;33m(\u001b[0m\u001b[1;33m[\u001b[0m\u001b[1;34m'name'\u001b[0m\u001b[1;33m]\u001b[0m\u001b[1;33m)\u001b[0m\u001b[1;33m.\u001b[0m\u001b[0msum\u001b[0m\u001b[1;33m(\u001b[0m\u001b[1;33m)\u001b[0m\u001b[1;33m.\u001b[0m\u001b[0mvalues\u001b[0m\u001b[1;33m)\u001b[0m\u001b[1;33m]\u001b[0m\u001b[1;33m)\u001b[0m\u001b[1;33m\u001b[0m\u001b[1;33m\u001b[0m\u001b[0m\n\u001b[0m",
      "\u001b[1;31mNameError\u001b[0m: name 'np' is not defined"
     ]
    }
   ],
   "source": [
    "np.vstack([df[[\"name\", \"duration\"]].groupby(['name']).sum().index.values, np.squeeze(df[[\"name\", \"duration\"]].groupby(['name']).sum().values)])\n"
   ]
  },
  {
   "cell_type": "code",
   "execution_count": 38,
   "metadata": {},
   "outputs": [
    {
     "data": {
      "text/plain": [
       "array([[1.33013443e+12],\n",
       "       [5.10000000e+03],\n",
       "       [9.75000000e+04]])"
      ]
     },
     "execution_count": 38,
     "metadata": {},
     "output_type": "execute_result"
    }
   ],
   "source": [
    "df[[\"name\", 'score']].groupby(['name']).sum().values\n"
   ]
  },
  {
   "cell_type": "code",
   "execution_count": 51,
   "metadata": {},
   "outputs": [
    {
     "name": "stdout",
     "output_type": "stream",
     "text": [
      "Administrator days: 1\n",
      "hours: 8\n",
      "minutes33 88.11 1330134432980.0\n",
      "Lablack Mourad days: 0\n",
      "hours: 0\n",
      "minutes42 504117647.06 5100.0\n",
      "Mary days: 0\n",
      "hours: 0\n",
      "minutes28 17456410.26 97500.0\n"
     ]
    }
   ],
   "source": [
    "ranking = df[[\"name\", \"duration\"]].groupby(['name']).sum()\n",
    "ranking_score = df[[\"name\", 'score']].groupby(['name']).sum()\n",
    "for m, t, s in zip(ranking.index, ranking['duration'], ranking_score['score']):\n",
    "    print(\n",
    "        m, f\"days: {t.components.}\\nhours: {t.components.hours}\\nminutes{t.components.minutes}\", round(t.value/s, 2))\n"
   ]
  },
  {
   "cell_type": "code",
   "execution_count": 17,
   "metadata": {},
   "outputs": [
    {
     "name": "stdout",
     "output_type": "stream",
     "text": [
      "117192000000000 nanoseconds\n",
      "2571000000000 nanoseconds\n",
      "1702000000000 nanoseconds\n"
     ]
    }
   ],
   "source": [
    "for t in (df[[\"name\", \"duration\"]].groupby(['name']).sum()\n",
    "             ['duration']).values:\n",
    "    print(t)\n"
   ]
  },
  {
   "cell_type": "markdown",
   "metadata": {},
   "source": [
    "# Sells"
   ]
  },
  {
   "cell_type": "code",
   "execution_count": 85,
   "metadata": {},
   "outputs": [
    {
     "data": {
      "text/html": [
       "<div>\n",
       "<style scoped>\n",
       "    .dataframe tbody tr th:only-of-type {\n",
       "        vertical-align: middle;\n",
       "    }\n",
       "\n",
       "    .dataframe tbody tr th {\n",
       "        vertical-align: top;\n",
       "    }\n",
       "\n",
       "    .dataframe thead th {\n",
       "        text-align: right;\n",
       "    }\n",
       "</style>\n",
       "<table border=\"1\" class=\"dataframe\">\n",
       "  <thead>\n",
       "    <tr style=\"text-align: right;\">\n",
       "      <th></th>\n",
       "      <th>date</th>\n",
       "      <th>total</th>\n",
       "      <th>employee</th>\n",
       "      <th>customer</th>\n",
       "      <th>day</th>\n",
       "    </tr>\n",
       "    <tr>\n",
       "      <th>date</th>\n",
       "      <th></th>\n",
       "      <th></th>\n",
       "      <th></th>\n",
       "      <th></th>\n",
       "      <th></th>\n",
       "    </tr>\n",
       "  </thead>\n",
       "  <tbody>\n",
       "    <tr>\n",
       "      <th>2022-04-06 00:11:48</th>\n",
       "      <td>2022-04-06</td>\n",
       "      <td>300.0</td>\n",
       "      <td>Administrator</td>\n",
       "      <td>Unknown</td>\n",
       "      <td>Wednesday</td>\n",
       "    </tr>\n",
       "    <tr>\n",
       "      <th>2022-04-06 00:12:15</th>\n",
       "      <td>2022-04-06</td>\n",
       "      <td>450.0</td>\n",
       "      <td>Administrator</td>\n",
       "      <td>Unknown</td>\n",
       "      <td>Wednesday</td>\n",
       "    </tr>\n",
       "    <tr>\n",
       "      <th>2022-04-06 00:59:32</th>\n",
       "      <td>2022-04-06</td>\n",
       "      <td>1250.0</td>\n",
       "      <td>Administrator</td>\n",
       "      <td>Unknown</td>\n",
       "      <td>Wednesday</td>\n",
       "    </tr>\n",
       "    <tr>\n",
       "      <th>2022-04-06 01:02:46</th>\n",
       "      <td>2022-04-06</td>\n",
       "      <td>750.0</td>\n",
       "      <td>Administrator</td>\n",
       "      <td>Unknown</td>\n",
       "      <td>Wednesday</td>\n",
       "    </tr>\n",
       "    <tr>\n",
       "      <th>2022-04-06 16:54:38</th>\n",
       "      <td>2022-04-06</td>\n",
       "      <td>2751.0</td>\n",
       "      <td>Administrator</td>\n",
       "      <td>Unknown</td>\n",
       "      <td>Wednesday</td>\n",
       "    </tr>\n",
       "    <tr>\n",
       "      <th>2022-04-16 04:02:28</th>\n",
       "      <td>2022-04-16</td>\n",
       "      <td>135.0</td>\n",
       "      <td>Administrator</td>\n",
       "      <td>Unknown</td>\n",
       "      <td>Saturday</td>\n",
       "    </tr>\n",
       "    <tr>\n",
       "      <th>2022-04-16 04:06:36</th>\n",
       "      <td>2022-04-16</td>\n",
       "      <td>9.0</td>\n",
       "      <td>Administrator</td>\n",
       "      <td>Unknown</td>\n",
       "      <td>Saturday</td>\n",
       "    </tr>\n",
       "    <tr>\n",
       "      <th>2022-04-16 09:19:44</th>\n",
       "      <td>2022-04-16</td>\n",
       "      <td>7500.0</td>\n",
       "      <td>Administrator</td>\n",
       "      <td>Mustafa</td>\n",
       "      <td>Saturday</td>\n",
       "    </tr>\n",
       "    <tr>\n",
       "      <th>2022-04-16 09:20:31</th>\n",
       "      <td>2022-04-16</td>\n",
       "      <td>7500.0</td>\n",
       "      <td>Mary</td>\n",
       "      <td>Mustafa</td>\n",
       "      <td>Saturday</td>\n",
       "    </tr>\n",
       "    <tr>\n",
       "      <th>2022-04-16 09:20:46</th>\n",
       "      <td>2022-04-16</td>\n",
       "      <td>8750.0</td>\n",
       "      <td>Mary</td>\n",
       "      <td>Unknown</td>\n",
       "      <td>Saturday</td>\n",
       "    </tr>\n",
       "  </tbody>\n",
       "</table>\n",
       "</div>"
      ],
      "text/plain": [
       "                           date   total       employee customer        day\n",
       "date                                                                      \n",
       "2022-04-06 00:11:48  2022-04-06   300.0  Administrator  Unknown  Wednesday\n",
       "2022-04-06 00:12:15  2022-04-06   450.0  Administrator  Unknown  Wednesday\n",
       "2022-04-06 00:59:32  2022-04-06  1250.0  Administrator  Unknown  Wednesday\n",
       "2022-04-06 01:02:46  2022-04-06   750.0  Administrator  Unknown  Wednesday\n",
       "2022-04-06 16:54:38  2022-04-06  2751.0  Administrator  Unknown  Wednesday\n",
       "2022-04-16 04:02:28  2022-04-16   135.0  Administrator  Unknown   Saturday\n",
       "2022-04-16 04:06:36  2022-04-16     9.0  Administrator  Unknown   Saturday\n",
       "2022-04-16 09:19:44  2022-04-16  7500.0  Administrator  Mustafa   Saturday\n",
       "2022-04-16 09:20:31  2022-04-16  7500.0           Mary  Mustafa   Saturday\n",
       "2022-04-16 09:20:46  2022-04-16  8750.0           Mary  Unknown   Saturday"
      ]
     },
     "execution_count": 85,
     "metadata": {},
     "output_type": "execute_result"
    }
   ],
   "source": [
    "df_sells = pd.read_sql_query(\n",
    "    \"\"\"\n",
    "    SELECT Sells.date, Sells.total, Workers.name AS employee, Customers.name AS customer\n",
    "    FROM Sells LEFT JOIN Workers \n",
    "    ON Sells.id_worker = Workers._id\n",
    "    LEFT JOIN Customers on Sells.id_customer = Customers._id\n",
    "    WHERE Sells.date BETWEEN '2022-04-01' AND '2022-04-17'\n",
    "    \"\"\", db.conn)\n",
    "df_sells.set_index(pd.to_datetime(df_sells.date), inplace=True)\n",
    "df_sells[\"day\"] = df_sells.index.day_name()\n",
    "df_sells[\"date\"] = df_sells.index.date\n",
    "df_sells\n"
   ]
  },
  {
   "cell_type": "code",
   "execution_count": 93,
   "metadata": {},
   "outputs": [
    {
     "data": {
      "text/plain": [
       "<AxesSubplot:xlabel='day', ylabel='count'>"
      ]
     },
     "execution_count": 93,
     "metadata": {},
     "output_type": "execute_result"
    },
    {
     "data": {
      "image/png": "[encoded data removed]",
      "text/plain": [
       "<Figure size 432x288 with 1 Axes>"
      ]
     },
     "metadata": {
      "needs_background": "light"
     },
     "output_type": "display_data"
    }
   ],
   "source": [
    "sns.countplot(data=df_sells, x=\"day\", hue=\"employee\", palette=\"dark\", alpha=.6)\n"
   ]
  },
  {
   "cell_type": "code",
   "execution_count": 89,
   "metadata": {},
   "outputs": [
    {
     "data": {
      "text/plain": [
       "<seaborn.axisgrid.FacetGrid at 0x28e8276d4c0>"
      ]
     },
     "execution_count": 89,
     "metadata": {},
     "output_type": "execute_result"
    },
    {
     "data": {
      "image/png": "[encoded data removed]",
      "text/plain": [
       "<Figure size 536.25x432 with 1 Axes>"
      ]
     },
     "metadata": {
      "needs_background": "light"
     },
     "output_type": "display_data"
    }
   ],
   "source": [
    "sns.catplot(data=df_sells, x=\"day\", y=\"total\",\n",
    "            kind=\"bar\", hue=\"employee\", palette=\"dark\", alpha=.6, height=6)\n"
   ]
  },
  {
   "cell_type": "code",
   "execution_count": 44,
   "metadata": {},
   "outputs": [],
   "source": [
    "df_sells.date = pd.to_datetime(df_sells.date)\n",
    "df_sells = df_sells.set_index('date')"
   ]
  },
  {
   "cell_type": "code",
   "execution_count": 52,
   "metadata": {},
   "outputs": [
    {
     "data": {
      "text/html": [
       "<div>\n",
       "<style scoped>\n",
       "    .dataframe tbody tr th:only-of-type {\n",
       "        vertical-align: middle;\n",
       "    }\n",
       "\n",
       "    .dataframe tbody tr th {\n",
       "        vertical-align: top;\n",
       "    }\n",
       "\n",
       "    .dataframe thead th {\n",
       "        text-align: right;\n",
       "    }\n",
       "</style>\n",
       "<table border=\"1\" class=\"dataframe\">\n",
       "  <thead>\n",
       "    <tr style=\"text-align: right;\">\n",
       "      <th></th>\n",
       "      <th>_id</th>\n",
       "      <th>id_worker</th>\n",
       "      <th>id_customer</th>\n",
       "      <th>total</th>\n",
       "      <th>completed</th>\n",
       "    </tr>\n",
       "    <tr>\n",
       "      <th>date</th>\n",
       "      <th></th>\n",
       "      <th></th>\n",
       "      <th></th>\n",
       "      <th></th>\n",
       "      <th></th>\n",
       "    </tr>\n",
       "  </thead>\n",
       "  <tbody>\n",
       "    <tr>\n",
       "      <th>2022-04-06 00:11:48</th>\n",
       "      <td>2</td>\n",
       "      <td>1</td>\n",
       "      <td>1</td>\n",
       "      <td>300.0</td>\n",
       "      <td>0</td>\n",
       "    </tr>\n",
       "    <tr>\n",
       "      <th>2022-04-06 00:12:15</th>\n",
       "      <td>3</td>\n",
       "      <td>1</td>\n",
       "      <td>1</td>\n",
       "      <td>450.0</td>\n",
       "      <td>0</td>\n",
       "    </tr>\n",
       "    <tr>\n",
       "      <th>2022-04-06 00:59:32</th>\n",
       "      <td>4</td>\n",
       "      <td>1</td>\n",
       "      <td>1</td>\n",
       "      <td>1250.0</td>\n",
       "      <td>0</td>\n",
       "    </tr>\n",
       "    <tr>\n",
       "      <th>2022-04-06 01:02:46</th>\n",
       "      <td>5</td>\n",
       "      <td>1</td>\n",
       "      <td>1</td>\n",
       "      <td>750.0</td>\n",
       "      <td>0</td>\n",
       "    </tr>\n",
       "    <tr>\n",
       "      <th>2022-04-06 16:54:38</th>\n",
       "      <td>8</td>\n",
       "      <td>1</td>\n",
       "      <td>1</td>\n",
       "      <td>2751.0</td>\n",
       "      <td>0</td>\n",
       "    </tr>\n",
       "    <tr>\n",
       "      <th>2022-04-16 04:02:28</th>\n",
       "      <td>11</td>\n",
       "      <td>1</td>\n",
       "      <td>1</td>\n",
       "      <td>135.0</td>\n",
       "      <td>1</td>\n",
       "    </tr>\n",
       "    <tr>\n",
       "      <th>2022-04-16 04:06:36</th>\n",
       "      <td>14</td>\n",
       "      <td>1</td>\n",
       "      <td>1</td>\n",
       "      <td>9.0</td>\n",
       "      <td>1</td>\n",
       "    </tr>\n",
       "    <tr>\n",
       "      <th>2022-04-16 09:19:44</th>\n",
       "      <td>24</td>\n",
       "      <td>1</td>\n",
       "      <td>3</td>\n",
       "      <td>7500.0</td>\n",
       "      <td>1</td>\n",
       "    </tr>\n",
       "    <tr>\n",
       "      <th>2022-04-16 09:20:31</th>\n",
       "      <td>25</td>\n",
       "      <td>3</td>\n",
       "      <td>3</td>\n",
       "      <td>7500.0</td>\n",
       "      <td>1</td>\n",
       "    </tr>\n",
       "    <tr>\n",
       "      <th>2022-04-16 09:20:46</th>\n",
       "      <td>26</td>\n",
       "      <td>3</td>\n",
       "      <td>1</td>\n",
       "      <td>8750.0</td>\n",
       "      <td>1</td>\n",
       "    </tr>\n",
       "  </tbody>\n",
       "</table>\n",
       "</div>"
      ],
      "text/plain": [
       "                     _id  id_worker  id_customer   total  completed\n",
       "date                                                               \n",
       "2022-04-06 00:11:48    2          1            1   300.0          0\n",
       "2022-04-06 00:12:15    3          1            1   450.0          0\n",
       "2022-04-06 00:59:32    4          1            1  1250.0          0\n",
       "2022-04-06 01:02:46    5          1            1   750.0          0\n",
       "2022-04-06 16:54:38    8          1            1  2751.0          0\n",
       "2022-04-16 04:02:28   11          1            1   135.0          1\n",
       "2022-04-16 04:06:36   14          1            1     9.0          1\n",
       "2022-04-16 09:19:44   24          1            3  7500.0          1\n",
       "2022-04-16 09:20:31   25          3            3  7500.0          1\n",
       "2022-04-16 09:20:46   26          3            1  8750.0          1"
      ]
     },
     "execution_count": 52,
     "metadata": {},
     "output_type": "execute_result"
    }
   ],
   "source": [
    "df_sells"
   ]
  },
  {
   "cell_type": "code",
   "execution_count": 58,
   "metadata": {},
   "outputs": [
    {
     "data": {
      "image/png": "[encoded data removed]",
      "text/plain": [
       "<Figure size 501.125x432 with 1 Axes>"
      ]
     },
     "metadata": {
      "needs_background": "light"
     },
     "output_type": "display_data"
    }
   ],
   "source": [
    "g = sns.catplot(\n",
    "    data=df_sells, kind=\"bar\",\n",
    "    x=\"id_worker\", y=\"total\", hue=\"id_customer\",\n",
    "    ci=\"sd\", palette=\"dark\", alpha=.6, height=6\n",
    ")\n",
    "g.despine(left=True)\n",
    "g.set_axis_labels(\"Employee\", \"Total (DZ)\")\n",
    "g.legend.set_title(\"\")\n"
   ]
  },
  {
   "cell_type": "code",
   "execution_count": 64,
   "metadata": {},
   "outputs": [],
   "source": [
    "df_sells['day'] = df_sells.index.day_name()"
   ]
  },
  {
   "cell_type": "code",
   "execution_count": 65,
   "metadata": {},
   "outputs": [
    {
     "data": {
      "text/html": [
       "<div>\n",
       "<style scoped>\n",
       "    .dataframe tbody tr th:only-of-type {\n",
       "        vertical-align: middle;\n",
       "    }\n",
       "\n",
       "    .dataframe tbody tr th {\n",
       "        vertical-align: top;\n",
       "    }\n",
       "\n",
       "    .dataframe thead th {\n",
       "        text-align: right;\n",
       "    }\n",
       "</style>\n",
       "<table border=\"1\" class=\"dataframe\">\n",
       "  <thead>\n",
       "    <tr style=\"text-align: right;\">\n",
       "      <th></th>\n",
       "      <th>_id</th>\n",
       "      <th>id_worker</th>\n",
       "      <th>id_customer</th>\n",
       "      <th>total</th>\n",
       "      <th>completed</th>\n",
       "      <th>day</th>\n",
       "    </tr>\n",
       "    <tr>\n",
       "      <th>date</th>\n",
       "      <th></th>\n",
       "      <th></th>\n",
       "      <th></th>\n",
       "      <th></th>\n",
       "      <th></th>\n",
       "      <th></th>\n",
       "    </tr>\n",
       "  </thead>\n",
       "  <tbody>\n",
       "    <tr>\n",
       "      <th>2022-04-06 00:11:48</th>\n",
       "      <td>2</td>\n",
       "      <td>1</td>\n",
       "      <td>1</td>\n",
       "      <td>300.0</td>\n",
       "      <td>0</td>\n",
       "      <td>Wednesday</td>\n",
       "    </tr>\n",
       "    <tr>\n",
       "      <th>2022-04-06 00:12:15</th>\n",
       "      <td>3</td>\n",
       "      <td>1</td>\n",
       "      <td>1</td>\n",
       "      <td>450.0</td>\n",
       "      <td>0</td>\n",
       "      <td>Wednesday</td>\n",
       "    </tr>\n",
       "    <tr>\n",
       "      <th>2022-04-06 00:59:32</th>\n",
       "      <td>4</td>\n",
       "      <td>1</td>\n",
       "      <td>1</td>\n",
       "      <td>1250.0</td>\n",
       "      <td>0</td>\n",
       "      <td>Wednesday</td>\n",
       "    </tr>\n",
       "    <tr>\n",
       "      <th>2022-04-06 01:02:46</th>\n",
       "      <td>5</td>\n",
       "      <td>1</td>\n",
       "      <td>1</td>\n",
       "      <td>750.0</td>\n",
       "      <td>0</td>\n",
       "      <td>Wednesday</td>\n",
       "    </tr>\n",
       "    <tr>\n",
       "      <th>2022-04-06 16:54:38</th>\n",
       "      <td>8</td>\n",
       "      <td>1</td>\n",
       "      <td>1</td>\n",
       "      <td>2751.0</td>\n",
       "      <td>0</td>\n",
       "      <td>Wednesday</td>\n",
       "    </tr>\n",
       "    <tr>\n",
       "      <th>2022-04-16 04:02:28</th>\n",
       "      <td>11</td>\n",
       "      <td>1</td>\n",
       "      <td>1</td>\n",
       "      <td>135.0</td>\n",
       "      <td>1</td>\n",
       "      <td>Saturday</td>\n",
       "    </tr>\n",
       "    <tr>\n",
       "      <th>2022-04-16 04:06:36</th>\n",
       "      <td>14</td>\n",
       "      <td>1</td>\n",
       "      <td>1</td>\n",
       "      <td>9.0</td>\n",
       "      <td>1</td>\n",
       "      <td>Saturday</td>\n",
       "    </tr>\n",
       "    <tr>\n",
       "      <th>2022-04-16 09:19:44</th>\n",
       "      <td>24</td>\n",
       "      <td>1</td>\n",
       "      <td>3</td>\n",
       "      <td>7500.0</td>\n",
       "      <td>1</td>\n",
       "      <td>Saturday</td>\n",
       "    </tr>\n",
       "    <tr>\n",
       "      <th>2022-04-16 09:20:31</th>\n",
       "      <td>25</td>\n",
       "      <td>3</td>\n",
       "      <td>3</td>\n",
       "      <td>7500.0</td>\n",
       "      <td>1</td>\n",
       "      <td>Saturday</td>\n",
       "    </tr>\n",
       "    <tr>\n",
       "      <th>2022-04-16 09:20:46</th>\n",
       "      <td>26</td>\n",
       "      <td>3</td>\n",
       "      <td>1</td>\n",
       "      <td>8750.0</td>\n",
       "      <td>1</td>\n",
       "      <td>Saturday</td>\n",
       "    </tr>\n",
       "  </tbody>\n",
       "</table>\n",
       "</div>"
      ],
      "text/plain": [
       "                     _id  id_worker  id_customer   total  completed        day\n",
       "date                                                                          \n",
       "2022-04-06 00:11:48    2          1            1   300.0          0  Wednesday\n",
       "2022-04-06 00:12:15    3          1            1   450.0          0  Wednesday\n",
       "2022-04-06 00:59:32    4          1            1  1250.0          0  Wednesday\n",
       "2022-04-06 01:02:46    5          1            1   750.0          0  Wednesday\n",
       "2022-04-06 16:54:38    8          1            1  2751.0          0  Wednesday\n",
       "2022-04-16 04:02:28   11          1            1   135.0          1   Saturday\n",
       "2022-04-16 04:06:36   14          1            1     9.0          1   Saturday\n",
       "2022-04-16 09:19:44   24          1            3  7500.0          1   Saturday\n",
       "2022-04-16 09:20:31   25          3            3  7500.0          1   Saturday\n",
       "2022-04-16 09:20:46   26          3            1  8750.0          1   Saturday"
      ]
     },
     "execution_count": 65,
     "metadata": {},
     "output_type": "execute_result"
    }
   ],
   "source": [
    "df_sells"
   ]
  },
  {
   "cell_type": "code",
   "execution_count": 67,
   "metadata": {},
   "outputs": [
    {
     "data": {
      "text/plain": [
       "<seaborn.axisgrid.FacetGrid at 0x28e8112a820>"
      ]
     },
     "execution_count": 67,
     "metadata": {},
     "output_type": "execute_result"
    },
    {
     "data": {
      "image/png": "[encoded data removed]",
      "text/plain": [
       "<Figure size 432x288 with 1 Axes>"
      ]
     },
     "metadata": {
      "needs_background": "light"
     },
     "output_type": "display_data"
    }
   ],
   "source": [
    "sns.countplot(x=\"day\", data=df_sells)\n",
    "g.set_axis_labels(\"Day of the week\", \"Number of orders\")\n"
   ]
  },
  {
   "cell_type": "code",
   "execution_count": 56,
   "metadata": {},
   "outputs": [
    {
     "data": {
      "text/plain": [
       "<AxesSubplot:xlabel='id_worker'>"
      ]
     },
     "execution_count": 56,
     "metadata": {},
     "output_type": "execute_result"
    },
    {
     "data": {
      "image/png": "[encoded data removed]",
      "text/plain": [
       "<Figure size 432x288 with 1 Axes>"
      ]
     },
     "metadata": {
      "needs_background": "light"
     },
     "output_type": "display_data"
    }
   ],
   "source": [
    "df_sells['total'].groupby(df_sells.id_worker).mean().plot(kind=\"bar\")\n"
   ]
  },
  {
   "cell_type": "code",
   "execution_count": 51,
   "metadata": {},
   "outputs": [
    {
     "data": {
      "text/plain": [
       "<AxesSubplot:>"
      ]
     },
     "execution_count": 51,
     "metadata": {},
     "output_type": "execute_result"
    },
    {
     "data": {
      "image/png": "[encoded data removed]",
      "text/plain": [
       "<Figure size 432x288 with 1 Axes>"
      ]
     },
     "metadata": {
      "needs_background": "light"
     },
     "output_type": "display_data"
    }
   ],
   "source": [
    "df_sells.index.day_name().value_counts().plot(kind=\"bar\")"
   ]
  }
 ],
 "metadata": {
  "interpreter": {
   "hash": "415136a4860e5b1287901de046ad3c6f310910665f948cb317df9a61747a766b"
  },
  "kernelspec": {
   "display_name": "Python 3.8.2 64-bit ('3.8.2')",
   "language": "python",
   "name": "python3"
  },
  "language_info": {
   "codemirror_mode": {
    "name": "ipython",
    "version": 3
   },
   "file_extension": ".py",
   "mimetype": "text/x-python",
   "name": "python",
   "nbconvert_exporter": "python",
   "pygments_lexer": "ipython3",
   "version": "3.8.2"
  },
  "orig_nbformat": 4
 },
 "nbformat": 4,
 "nbformat_minor": 2
}
